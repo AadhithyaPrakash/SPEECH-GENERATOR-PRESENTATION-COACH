{
 "cells": [
  {
   "cell_type": "code",
   "execution_count": 9,
   "id": "48c5e110",
   "metadata": {},
   "outputs": [],
   "source": [
    "import ipywidgets as widgets\n",
    "from IPython.display import display\n",
    "from groq import Groq\n",
    "import torch\n",
    "from transformers import pipeline\n",
    "import torchaudio"
   ]
  },
  {
   "cell_type": "code",
   "execution_count": 10,
   "id": "0e5e1739",
   "metadata": {},
   "outputs": [],
   "source": [
    "import pyttsx3\n",
    "\n",
    "def speak_text(text):\n",
    "    engine = pyttsx3.init()\n",
    "    engine.setProperty('rate', 170)  # Moderate speed\n",
    "    engine.setProperty('volume', 1.0)  # Max volume\n",
    "\n",
    "    # Choose a clearer voice (index may vary by OS)\n",
    "    voices = engine.getProperty('voices')\n",
    "    if len(voices) > 1:\n",
    "        engine.setProperty('voice', voices[1].id)  # Female (or clearer) voice\n",
    "    else:\n",
    "        engine.setProperty('voice', voices[0].id)\n",
    "\n",
    "    engine.say(text)\n",
    "    engine.runAndWait()\n"
   ]
  },
  {
   "cell_type": "code",
   "execution_count": 11,
   "id": "fc9ac5e6",
   "metadata": {},
   "outputs": [],
   "source": [
    "def build_prompt(topic: str, duration: int, emotion: str = \"formal\", audience: str = \"general\") -> str:\n",
    "    \"\"\"\n",
    "    Build a detailed prompt for Groq-based speech generation.\n",
    "    \"\"\"\n",
    "    style_templates = {\n",
    "        \"formal\": \"Write a formal {duration}-minute speech about '{topic}' suitable for a professional audience.\",\n",
    "        \"casual\": \"Write a casual, friendly {duration}-minute speech about '{topic}'.\",\n",
    "        \"motivational\": \"Write an inspiring {duration}-minute motivational speech about '{topic}' that energizes the audience.\",\n",
    "        \"persuasive\": \"Write a compelling {duration}-minute persuasive speech about '{topic}' to change minds.\",\n",
    "        \"instructional\": \"Write a step-by-step {duration}-minute instructional speech on '{topic}'.\",\n",
    "        \"debate\": \"Write a {duration}-minute debate speech about '{topic}' with strong arguments and counterpoints.\",\n",
    "    }\n",
    "\n",
    "    audience_guidance = {\n",
    "        \"general\": \"Make the speech accessible to a general audience with no specialized knowledge.\",\n",
    "        \"experts\": \"Include technical depth suitable for experts in the field.\",\n",
    "        \"children\": \"Use simple, engaging language and examples suitable for kids.\",\n",
    "        \"students\": \"Be educational and engaging for a student audience.\",\n",
    "        \"executives\": \"Focus on strategic implications and leadership perspectives.\",\n",
    "    }\n",
    "\n",
    "    base_prompt = style_templates.get(emotion, style_templates[\"formal\"]).format(topic=topic, duration=duration)\n",
    "    audience_note = audience_guidance.get(audience, \"\")\n",
    "    \n",
    "    final_prompt = (\n",
    "        f\"{base_prompt}\\n\\n\"\n",
    "        f\"{audience_note}\\n\\n\"\n",
    "        f\"Structure the speech with an introduction, body, and conclusion.\\n\"\n",
    "        f\"Use engaging transitions, rhetorical devices, and paragraph breaks.\\n\"\n",
    "        f\"Aim for roughly {duration * 130} words.\"\n",
    "    )\n",
    "    \n",
    "    return final_prompt"
   ]
  },
  {
   "cell_type": "code",
   "execution_count": 12,
   "id": "ad8c60cb",
   "metadata": {},
   "outputs": [],
   "source": [
    "def generate_speech(topic: str, duration: int, emotion: str, audience: str):\n",
    "    # Build prompt based on input\n",
    "    prompt = build_prompt(topic, duration, emotion, audience)\n",
    "    \n",
    "    # Groq API call\n",
    "    api_key = \"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\"\n",
    "    client = Groq(api_key=api_key)\n",
    "    completion = client.chat.completions.create(\n",
    "        model=\"llama3-8b-8192\",\n",
    "        messages=[{\"role\": \"user\", \"content\": prompt}],\n",
    "        temperature=0.9,\n",
    "        max_tokens=2048,\n",
    "        top_p=1,\n",
    "        stream=True\n",
    "    )\n",
    "    \n",
    "    # Collect and display streaming output\n",
    "    speech = \"\"\n",
    "    for chunk in completion:\n",
    "        speech += chunk.choices[0].delta.content or \"\"\n",
    "    return speech\n"
   ]
  },
  {
   "cell_type": "code",
   "execution_count": 13,
   "id": "461531b7",
   "metadata": {},
   "outputs": [
    {
     "data": {
      "application/vnd.jupyter.widget-view+json": {
       "model_id": "266483c348b04a478a8a4f0bf2bc0539",
       "version_major": 2,
       "version_minor": 0
      },
      "text/plain": [
       "Text(value='Recent Trends in AI', description='Topic:')"
      ]
     },
     "metadata": {},
     "output_type": "display_data"
    },
    {
     "data": {
      "application/vnd.jupyter.widget-view+json": {
       "model_id": "c998a7f182024617b00434a162f019fc",
       "version_major": 2,
       "version_minor": 0
      },
      "text/plain": [
       "Dropdown(description='Emotion:', index=4, options=('formal', 'casual', 'motivational', 'persuasive', 'instruct…"
      ]
     },
     "metadata": {},
     "output_type": "display_data"
    },
    {
     "data": {
      "application/vnd.jupyter.widget-view+json": {
       "model_id": "a608a78f0e8b4638977e689d49c97dc0",
       "version_major": 2,
       "version_minor": 0
      },
      "text/plain": [
       "IntSlider(value=3, description='Duration (min):', max=10, min=1)"
      ]
     },
     "metadata": {},
     "output_type": "display_data"
    },
    {
     "data": {
      "application/vnd.jupyter.widget-view+json": {
       "model_id": "6ead74566ca84d98b3efb0b61fc25008",
       "version_major": 2,
       "version_minor": 0
      },
      "text/plain": [
       "Dropdown(description='Audience:', index=3, options=('general', 'experts', 'children', 'students', 'executives'…"
      ]
     },
     "metadata": {},
     "output_type": "display_data"
    },
    {
     "data": {
      "application/vnd.jupyter.widget-view+json": {
       "model_id": "0930fbb73d7a456b8bd01b36653cfdfb",
       "version_major": 2,
       "version_minor": 0
      },
      "text/plain": [
       "Button(description='Generate & Speak', style=ButtonStyle())"
      ]
     },
     "metadata": {},
     "output_type": "display_data"
    },
    {
     "data": {
      "application/vnd.jupyter.widget-view+json": {
       "model_id": "f22ef4e33533467784a5428b0a579e27",
       "version_major": 2,
       "version_minor": 0
      },
      "text/plain": [
       "Output()"
      ]
     },
     "metadata": {},
     "output_type": "display_data"
    }
   ],
   "source": [
    "import re\n",
    "import os\n",
    "\n",
    "def sanitize_filename(text):\n",
    "    # Replace spaces with underscores and remove special characters\n",
    "    return re.sub(r'[^a-zA-Z0-9_]', '', text.replace(\" \", \"_\"))\n",
    "\n",
    "topic_input = widgets.Text(value=\"Recent Trends in AI\", description=\"Topic:\")\n",
    "emotion_dropdown = widgets.Dropdown(\n",
    "    options=[\"formal\", \"casual\", \"motivational\", \"persuasive\", \"instructional\", \"debate\"],\n",
    "    value=\"instructional\", description=\"Emotion:\"\n",
    ")\n",
    "duration_slider = widgets.IntSlider(value=3, min=1, max=10, step=1, description=\"Duration (min):\")\n",
    "audience_dropdown = widgets.Dropdown(\n",
    "    options=[\"general\", \"experts\", \"children\", \"students\", \"executives\"],\n",
    "    value=\"students\", description=\"Audience:\"\n",
    ")\n",
    "\n",
    "display(topic_input, emotion_dropdown, duration_slider, audience_dropdown)\n",
    "\n",
    "# 5. Button to trigger process\n",
    "generate_button = widgets.Button(description=\"Generate & Speak\")\n",
    "output = widgets.Output()\n",
    "\n",
    "def on_button_click(b):\n",
    "    with output:\n",
    "        print(\"Generating speech...\\n\")\n",
    "        speech_text = generate_speech(topic_input.value, duration_slider.value, emotion_dropdown.value, audience_dropdown.value)\n",
    "        print(speech_text)\n",
    "        speak_text(speech_text)\n",
    "        print(\"Speech spoken aloud!\")\n",
    "\n",
    "\n",
    "        folder_path = \"speech\"\n",
    "        if not os.path.exists(folder_path):\n",
    "            os.makedirs(folder_path)\n",
    "\n",
    "        # Generate filename from topic\n",
    "        topic_clean = sanitize_filename(topic_input.value)\n",
    "        filename = f\"speech_{topic_clean}.txt\"\n",
    "        file_path = os.path.join(folder_path, filename)\n",
    "\n",
    "        # Ensure uniqueness (e.g., if file already exists, add a counter)\n",
    "        counter = 1\n",
    "        base_filename = filename\n",
    "        while os.path.exists(file_path):\n",
    "            filename = f\"{base_filename[:-4]}_{counter}.txt\"\n",
    "            file_path = os.path.join(folder_path, filename)\n",
    "            counter += 1\n",
    "\n",
    "        # Save speech to uniquely named .txt file\n",
    "        with open(file_path, \"w\", encoding=\"utf-8\") as f:\n",
    "            f.write(speech_text)\n",
    "        print(f\"Speech saved as '{file_path}'\")\n",
    "\n",
    "generate_button.on_click(on_button_click)\n",
    "display(generate_button, output)\n"
   ]
  },
  {
   "cell_type": "code",
   "execution_count": null,
   "id": "c43fcd6b",
   "metadata": {},
   "outputs": [],
   "source": []
  }
 ],
 "metadata": {
  "kernelspec": {
   "display_name": "base",
   "language": "python",
   "name": "python3"
  },
  "language_info": {
   "codemirror_mode": {
    "name": "ipython",
    "version": 3
   },
   "file_extension": ".py",
   "mimetype": "text/x-python",
   "name": "python",
   "nbconvert_exporter": "python",
   "pygments_lexer": "ipython3",
   "version": "3.12.7"
  }
 },
 "nbformat": 4,
 "nbformat_minor": 5
}
