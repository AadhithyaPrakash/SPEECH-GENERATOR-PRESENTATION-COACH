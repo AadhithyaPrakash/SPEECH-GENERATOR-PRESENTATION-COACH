{
 "cells": [
  {
   "cell_type": "code",
   "execution_count": 22,
   "id": "48c5e110",
   "metadata": {},
   "outputs": [],
   "source": [
    "import ipywidgets as widgets\n",
    "from groq import Groq\n",
    "from IPython.display import display"
   ]
  },
  {
   "cell_type": "code",
   "execution_count": 23,
   "id": "fc9ac5e6",
   "metadata": {},
   "outputs": [],
   "source": [
    "def build_prompt(topic: str, duration: int, emotion: str = \"formal\", audience: str = \"general\") -> str:\n",
    "    \"\"\"\n",
    "    Build a detailed prompt for Groq-based speech generation.\n",
    "    \"\"\"\n",
    "    style_templates = {\n",
    "        \"formal\": \"Write a formal {duration}-minute speech about '{topic}' suitable for a professional audience.\",\n",
    "        \"casual\": \"Write a casual, friendly {duration}-minute speech about '{topic}'.\",\n",
    "        \"motivational\": \"Write an inspiring {duration}-minute motivational speech about '{topic}' that energizes the audience.\",\n",
    "        \"persuasive\": \"Write a compelling {duration}-minute persuasive speech about '{topic}' to change minds.\",\n",
    "        \"instructional\": \"Write a step-by-step {duration}-minute instructional speech on '{topic}'.\",\n",
    "        \"debate\": \"Write a {duration}-minute debate speech about '{topic}' with strong arguments and counterpoints.\",\n",
    "    }\n",
    "\n",
    "    audience_guidance = {\n",
    "        \"general\": \"Make the speech accessible to a general audience with no specialized knowledge.\",\n",
    "        \"experts\": \"Include technical depth suitable for experts in the field.\",\n",
    "        \"children\": \"Use simple, engaging language and examples suitable for kids.\",\n",
    "        \"students\": \"Be educational and engaging for a student audience.\",\n",
    "        \"executives\": \"Focus on strategic implications and leadership perspectives.\",\n",
    "    }\n",
    "\n",
    "    base_prompt = style_templates.get(emotion, style_templates[\"formal\"]).format(topic=topic, duration=duration)\n",
    "    audience_note = audience_guidance.get(audience, \"\")\n",
    "    \n",
    "    final_prompt = (\n",
    "        f\"{base_prompt}\\n\\n\"\n",
    "        f\"{audience_note}\\n\\n\"\n",
    "        f\"Structure the speech with an introduction, body, and conclusion.\\n\"\n",
    "        f\"Use engaging transitions, rhetorical devices, and paragraph breaks.\\n\"\n",
    "        f\"Aim for roughly {duration * 130} words.\"\n",
    "    )\n",
    "    \n",
    "    return final_prompt"
   ]
  },
  {
   "cell_type": "code",
   "execution_count": 24,
   "id": "ad8c60cb",
   "metadata": {},
   "outputs": [],
   "source": [
    "def generate_speech(topic: str, duration: int, emotion: str, audience: str):\n",
    "    # Build prompt based on input\n",
    "    prompt = build_prompt(topic, duration, emotion, audience)\n",
    "    \n",
    "    # Groq API call\n",
    "    api_key = \"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\"\n",
    "    client = Groq(api_key=api_key)\n",
    "    completion = client.chat.completions.create(\n",
    "        model=\"llama3-8b-8192\",\n",
    "        messages=[{\"role\": \"user\", \"content\": prompt}],\n",
    "        temperature=0.9,\n",
    "        max_tokens=2048,\n",
    "        top_p=1,\n",
    "        stream=True\n",
    "    )\n",
    "    \n",
    "    # Collect and display streaming output\n",
    "    speech = \"\"\n",
    "    for chunk in completion:\n",
    "        speech += chunk.choices[0].delta.content or \"\"\n",
    "    return speech\n"
   ]
  },
  {
   "cell_type": "code",
   "execution_count": 25,
   "id": "461531b7",
   "metadata": {},
   "outputs": [],
   "source": [
    "topic_input = widgets.Text(value=\"climate change\", description=\"Topic:\")\n",
    "emotion_dropdown = widgets.Dropdown(\n",
    "    options=[\"formal\", \"casual\", \"motivational\", \"persuasive\", \"instructional\", \"debate\"],\n",
    "    value=\"motivational\",\n",
    "    description=\"Emotion:\"\n",
    ")\n",
    "duration_slider = widgets.IntSlider(value=5, min=1, max=30, step=1, description=\"Duration (min):\")\n",
    "audience_dropdown = widgets.Dropdown(\n",
    "    options=[\"general\", \"experts\", \"children\", \"students\", \"executives\"],\n",
    "    value=\"general\",\n",
    "    description=\"Audience:\"\n",
    ")\n"
   ]
  },
  {
   "cell_type": "code",
   "execution_count": 27,
   "id": "58160130",
   "metadata": {},
   "outputs": [
    {
     "data": {
      "application/vnd.jupyter.widget-view+json": {
       "model_id": "1573a3b122134ed599ea89eee6988692",
       "version_major": 2,
       "version_minor": 0
      },
      "text/plain": [
       "Text(value='VIJAY as politician', description='Topic:')"
      ]
     },
     "metadata": {},
     "output_type": "display_data"
    },
    {
     "data": {
      "application/vnd.jupyter.widget-view+json": {
       "model_id": "0d2a6d558264451e9037fbb6b7d03a93",
       "version_major": 2,
       "version_minor": 0
      },
      "text/plain": [
       "Dropdown(description='Emotion:', index=1, options=('formal', 'casual', 'motivational', 'persuasive', 'instruct…"
      ]
     },
     "metadata": {},
     "output_type": "display_data"
    },
    {
     "data": {
      "application/vnd.jupyter.widget-view+json": {
       "model_id": "14abaefcdf59437db778c09da3c26d0c",
       "version_major": 2,
       "version_minor": 0
      },
      "text/plain": [
       "IntSlider(value=30, description='Duration (min):', max=30, min=1)"
      ]
     },
     "metadata": {},
     "output_type": "display_data"
    },
    {
     "data": {
      "application/vnd.jupyter.widget-view+json": {
       "model_id": "0fe1f44f805849d6a40d4de6dbd3333a",
       "version_major": 2,
       "version_minor": 0
      },
      "text/plain": [
       "Dropdown(description='Audience:', index=2, options=('general', 'experts', 'children', 'students', 'executives'…"
      ]
     },
     "metadata": {},
     "output_type": "display_data"
    },
    {
     "data": {
      "application/vnd.jupyter.widget-view+json": {
       "model_id": "7c4dc91976514dd4b11d670624429f3e",
       "version_major": 2,
       "version_minor": 0
      },
      "text/plain": [
       "Button(description='Generate Speech', style=ButtonStyle())"
      ]
     },
     "metadata": {},
     "output_type": "display_data"
    },
    {
     "data": {
      "application/vnd.jupyter.widget-view+json": {
       "model_id": "036c7154e3f24b8094260918bff1f860",
       "version_major": 2,
       "version_minor": 0
      },
      "text/plain": [
       "Output()"
      ]
     },
     "metadata": {},
     "output_type": "display_data"
    }
   ],
   "source": [
    "# --- Display the Widgets ---\n",
    "display(topic_input, emotion_dropdown, duration_slider, audience_dropdown)\n",
    "\n",
    "# --- Button to Generate Speech ---\n",
    "generate_button = widgets.Button(description=\"Generate Speech\")\n",
    "output = widgets.Output()\n",
    "def on_button_click(b):\n",
    "    with output:\n",
    "        print(\"Generating speech...\\n\")\n",
    "        # Call the function to generate speech\n",
    "        speech = generate_speech(topic_input.value, duration_slider.value, emotion_dropdown.value, audience_dropdown.value)\n",
    "        print(speech)\n",
    "        # Save the generated speech to a file\n",
    "        with open(\"generated_speech.txt\", \"w\") as file:\n",
    "            file.write(speech)\n",
    "        \n",
    "        print(\"Speech successfully generated and saved to 'generated_speech.txt'.\")\n",
    "generate_button.on_click(on_button_click)\n",
    "display(generate_button, output)"
   ]
  },
  {
   "cell_type": "code",
   "execution_count": 21,
   "id": "d3983c3e",
   "metadata": {},
   "outputs": [
    {
     "ename": "NameError",
     "evalue": "name 'speech' is not defined",
     "output_type": "error",
     "traceback": [
      "\u001b[31m---------------------------------------------------------------------------\u001b[39m",
      "\u001b[31mNameError\u001b[39m                                 Traceback (most recent call last)",
      "\u001b[36mCell\u001b[39m\u001b[36m \u001b[39m\u001b[32mIn[21]\u001b[39m\u001b[32m, line 2\u001b[39m\n\u001b[32m      1\u001b[39m \u001b[38;5;28;01mwith\u001b[39;00m \u001b[38;5;28mopen\u001b[39m(\u001b[33m\"\u001b[39m\u001b[33mgenerated_speech.txt\u001b[39m\u001b[33m\"\u001b[39m, \u001b[33m\"\u001b[39m\u001b[33mw\u001b[39m\u001b[33m\"\u001b[39m) \u001b[38;5;28;01mas\u001b[39;00m file:\n\u001b[32m----> \u001b[39m\u001b[32m2\u001b[39m         file.write(\u001b[43mspeech\u001b[49m)\n\u001b[32m      4\u001b[39m \u001b[38;5;28mprint\u001b[39m(\u001b[33m\"\u001b[39m\u001b[33mSpeech successfully generated and saved to \u001b[39m\u001b[33m'\u001b[39m\u001b[33mgenerated_speech.txt\u001b[39m\u001b[33m'\u001b[39m\u001b[33m.\u001b[39m\u001b[33m\"\u001b[39m)\n",
      "\u001b[31mNameError\u001b[39m: name 'speech' is not defined"
     ]
    }
   ],
   "source": [
    "with open(\"generated_speech.txt\", \"w\") as file:\n",
    "        file.write(speech)\n",
    "\n",
    "print(\"Speech successfully generated and saved to 'generated_speech.txt'.\")"
   ]
  },
  {
   "cell_type": "code",
   "execution_count": null,
   "id": "09182c3b",
   "metadata": {},
   "outputs": [],
   "source": []
  }
 ],
 "metadata": {
  "kernelspec": {
   "display_name": "t5speechenv",
   "language": "python",
   "name": "python3"
  },
  "language_info": {
   "codemirror_mode": {
    "name": "ipython",
    "version": 3
   },
   "file_extension": ".py",
   "mimetype": "text/x-python",
   "name": "python",
   "nbconvert_exporter": "python",
   "pygments_lexer": "ipython3",
   "version": "3.11.8"
  }
 },
 "nbformat": 4,
 "nbformat_minor": 5
}
