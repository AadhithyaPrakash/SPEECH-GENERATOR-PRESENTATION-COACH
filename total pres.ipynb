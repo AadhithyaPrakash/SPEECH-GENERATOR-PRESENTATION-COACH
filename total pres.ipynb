{
 "cells": [
  {
   "cell_type": "code",
   "execution_count": null,
   "id": "b1b86c2b",
   "metadata": {},
   "outputs": [],
   "source": [
    "import re\n",
    "import os\n",
    "import pyttsx3\n",
    "from transformers import pipeline\n",
    "import ipywidgets as widgets\n",
    "from IPython.display import display\n",
    "import numpy as np\n"
   ]
  },
  {
   "cell_type": "code",
   "execution_count": null,
   "id": "6dcef4a5",
   "metadata": {},
   "outputs": [],
   "source": [
    "# Initialize text-to-speech engine\n",
    "tts_engine = pyttsx3.init()\n",
    "tts_engine.setProperty('rate', 150)\n",
    "\n",
    "# Load sentiment analysis model from Hugging Face\n",
    "sentiment_analyzer = pipeline(\"sentiment-analysis\", model=\"cardiffnlp/twitter-roberta-base-sentiment\")\n"
   ]
  },
  {
   "cell_type": "code",
   "execution_count": null,
   "id": "7a11677b",
   "metadata": {},
   "outputs": [],
   "source": [
    "def sanitize_filename(text):\n",
    "    return re.sub(r'[^a-zA-Z0-9_]', '', text.replace(\" \", \"_\"))\n",
    "\n",
    "def speak_and_save_text(text, filename=\"speech.wav\"):\n",
    "    tts_engine.save_to_file(text, filename)\n",
    "    tts_engine.runAndWait()\n",
    "    print(\"Speech spoken and saved as:\", filename)\n"
   ]
  },
  {
   "cell_type": "code",
   "execution_count": null,
   "id": "9a61a3d4",
   "metadata": {},
   "outputs": [],
   "source": []
  }
 ],
 "metadata": {
  "kernelspec": {
   "display_name": "base",
   "language": "python",
   "name": "python3"
  },
  "language_info": {
   "codemirror_mode": {
    "name": "ipython",
    "version": 3
   },
   "file_extension": ".py",
   "mimetype": "text/x-python",
   "name": "python",
   "nbconvert_exporter": "python",
   "pygments_lexer": "ipython3",
   "version": "3.12.7"
  }
 },
 "nbformat": 4,
 "nbformat_minor": 5
}
